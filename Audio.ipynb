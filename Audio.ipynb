{
 "cells": [
  {
   "cell_type": "code",
   "execution_count": 1,
   "metadata": {},
   "outputs": [],
   "source": [
    "import numpy\n",
    "import matplotlib.pyplot as plt\n",
    "import struct\n",
    "import pyaudio\n",
    "import os\n",
    "\n",
    "%matplotlib tk"
   ]
  },
  {
   "cell_type": "code",
   "execution_count": 60,
   "metadata": {},
   "outputs": [
    {
     "name": "stdout",
     "output_type": "stream",
     "text": [
      "Size of file is:2917493 B\n"
     ]
    }
   ],
   "source": [
    "CHUNK = 1024*8\n",
    "FORMAT = pyaudio.paInt16\n",
    "CHANNELS = 1\n",
    "RATE = 44100\n",
    "FILE_NAME = \"44 Bars.mp3\"\n",
    "FILE_SIZE = os.stat(FILE_NAME).st_size\n",
    "print(f\"Size of file is:{FILE_SIZE} B\")\n",
    "p = pyaudio.PyAudio()\n",
    "\n",
    "stream = p.open(\n",
    "    format=FORMAT,\n",
    "    channels=CHANNELS,\n",
    "    rate=RATE,\n",
    "    output= True,\n",
    ")\n",
    "import funcy\n",
    "\n",
    "data = []\n",
    "with open(FILE_NAME, 'rb') as fh:\n",
    "    while fh.tell() != FILE_SIZE and fh.tell()<60: # get the file-size from the os module\n",
    "        AUDIO_FRAME = fh.read(CHUNK)\n",
    "        for integers in funcy.chunks(1,AUDIO_FRAME):\n",
    "            data.append(integers)\n"
   ]
  },
  {
   "cell_type": "code",
   "execution_count": 80,
   "metadata": {},
   "outputs": [
    {
     "name": "stdout",
     "output_type": "stream",
     "text": [
      "512\n"
     ]
    }
   ],
   "source": [
    "data_int =[]\n",
    "for x in data:\n",
    "    data_int.append(int.from_bytes(x,byteorder='big'))\n",
    "#data_int = int.from_bytes(data,byteorder='big')\n",
    "try:\n",
    "    data_int = numpy.array(data_int,dtype=numpy.int8)[::16]+127\n",
    "    fig, ax = plt.subplots()\n",
    "    ax.plot(data_int,linestyle='--', marker='o')\n",
    "except Exception as ex:\n",
    "    print(f\"display failed because :{ex.args}\") \n",
    "print(len(data_int))\n"
   ]
  },
  {
   "cell_type": "markdown",
   "metadata": {},
   "source": [
    "Song length is of 3 mins and 02 secs and the format was of 128 kbps (Kilo bits pers second) or 16 KBps (Kilo bytes pers second). \n",
    "The sie of the file is 2.850 KB(Kilo Bytes).\n",
    "Number of seconds in the file is 3*60+2 = 182 s.\n",
    "The real speed of the file is something on the lines of 15.65934065934066.\n"
   ]
  }
 ],
 "metadata": {
  "kernelspec": {
   "display_name": "Python 3.10.8 ('venv': venv)",
   "language": "python",
   "name": "python3"
  },
  "language_info": {
   "codemirror_mode": {
    "name": "ipython",
    "version": 3
   },
   "file_extension": ".py",
   "mimetype": "text/x-python",
   "name": "python",
   "nbconvert_exporter": "python",
   "pygments_lexer": "ipython3",
   "version": "3.10.8"
  },
  "orig_nbformat": 4,
  "vscode": {
   "interpreter": {
    "hash": "6d5b1184f64b31b28f5b55a22282092f4981719edaf9f2a70eec2818a8a65f6b"
   }
  }
 },
 "nbformat": 4,
 "nbformat_minor": 2
}
