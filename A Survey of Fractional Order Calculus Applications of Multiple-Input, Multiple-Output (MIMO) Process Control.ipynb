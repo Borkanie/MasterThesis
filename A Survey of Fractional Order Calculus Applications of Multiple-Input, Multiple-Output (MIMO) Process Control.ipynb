{
 "cells": [
  {
   "cell_type": "markdown",
   "metadata": {},
   "source": [
    "# A Survey of Fractional Order Calculus Applications of Multiple-Input, Multiple-Output (MIMO) Process Control\n",
    "\n",
    "This is a resume!\n",
    "\n"
   ]
  },
  {
   "cell_type": "markdown",
   "metadata": {},
   "source": [
    "## Look into:\n",
    "Giona, M.; Roman, H.E. A theory of transport phenomena in disordered systems. - reasons why integer derivative equations might not be enough for some systems.\n"
   ]
  },
  {
   "cell_type": "markdown",
   "metadata": {},
   "source": [
    "\"Axtell, M.; Bise, M.E. Fractional calculus application in control systems. In Proceedings of the IEEE\n",
    "Conference on Aerospace and Electronics, Dayton, OH, USA, 21–25 May 1990.\" - for n=0.5 example of control algorithm\n"
   ]
  },
  {
   "cell_type": "markdown",
   "metadata": {},
   "source": [
    "\"Atangana, A.; Gómez-Aguilar, J. Numerical approximation of Riemann-Liouville definition of fractional\n",
    "derivative: From Riemann-Liouville to Atangana-Baleanu. Numer. Methods Part. Differ. Equ. 2018,\n",
    "34, 1502–1523. \" - fundamentals of FO control\n"
   ]
  },
  {
   "cell_type": "markdown",
   "metadata": {},
   "source": [
    "\"file:///C:/Users/Bogdan/Downloads/fractalfract-04-00022-v2.pdf#page=26&zoom=100,101,440\" - DULF\n",
    "\"Lamara, A.; Lanusse, P.; Colin, G.; Charlet, A.; Chamaillard, Y. A Non-square MIMO Fractional Robust\n",
    "Control for the Airpath of a Diesel Engine. In Proceedings of the 2013 European Control Conference (ECC),\n",
    "Zurich, Switzerland, 17–19 July 2013; pp. 3482–3487.\n"
   ]
  },
  {
   "cell_type": "markdown",
   "metadata": {},
   "source": [
    " Nelson-Gruel, D.; Chamaillard, Y.; Charlet, A.; Colin, G. Robust control applied to minimize NOx emissions.\n",
    "In Proceedings of the 2014 IEEE Conference on Control Applications (CCA), Juan Les Antibes, France,\n",
    "8–10 October 2014.\n"
   ]
  },
  {
   "cell_type": "markdown",
   "metadata": {},
   "source": [
    " Lamara, A.; Colin, G.; Lanusse, P.; Charlet, A.; Nelson-Gruel, D.; Chamaillard, Y. Pollutant Reduction of a\n",
    "Turbocharged Diesel Engine Using a Decentralized Mimo Crone Controller. Fract. Calc. Appl. Anal. 2015,\n",
    "18, 307–332. \" -  diesel motor NOx emission control\n"
   ]
  },
  {
   "cell_type": "markdown",
   "metadata": {},
   "source": [
    "\"Vinagre, B.M.; Tejado, I.; Romero, M.; Sierociuk, D. Loop transfer recovery for fractional order control\n",
    "systems. First results. In Proceedings of the 17th International Carpathian Control Conference (ICCC),\n",
    "Tatranska Lomnica, Slovakia, 29 May–1 June 2016; pp. 782–787.\" -aircraft and motor contorl using stae matrix and fracitonal  kalman filter\n",
    "\n",
    "\n"
   ]
  },
  {
   "cell_type": "markdown",
   "metadata": {},
   "source": [
    "\"Yin, C.; Dadras, S.; Huang, X.; Cheng, Y.; Malek, H. The design and performance analysis of multivariate\n",
    "fractional-order gradient-based extremum seeking approach. Appl. Math. Model. 2018, 62, 680–700.\" - new approach for gradient control"
   ]
  },
  {
   "cell_type": "markdown",
   "metadata": {},
   "source": [
    "## Main Takeaway:\n",
    "\n",
    "It will look for main control algorithms used in MIMO system on the market to highlight gaps and research opportunities.\n"
   ]
  }
 ],
 "metadata": {
  "kernelspec": {
   "display_name": "Python 3.10.8 64-bit (microsoft store)",
   "language": "python",
   "name": "python3"
  },
  "language_info": {
   "name": "python",
   "version": "3.10.8"
  },
  "orig_nbformat": 4,
  "vscode": {
   "interpreter": {
    "hash": "693b8e77d0983ee1c07f6c898fdbb4b0fdf441940ee434c51f69ae2952895690"
   }
  }
 },
 "nbformat": 4,
 "nbformat_minor": 2
}
