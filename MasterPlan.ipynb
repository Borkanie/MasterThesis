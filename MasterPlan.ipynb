{
 "cells": [
  {
   "cell_type": "markdown",
   "metadata": {},
   "source": [
    "# Master Thesys\n",
    "\n",
    "Here we are going to explaining everything about my masters to make it easier for documentation.\n",
    "\n",
    "## Overall Theme\n",
    "\n",
    "The overall theme of my masters will be a advanced control algorithm for electric motors that would allow for a kart to turn withouith a differential system. I would like to use machine learning or artifficial intelligence when achieving this goal, maybe both why not. The final project shall have a physical implementation but all nocecessary simulations will be done in matlab and python (i woudl prefer python). After i buy the kart itself the process can begin. The development will be composed of multiple steps:\n",
    "### Step 1 Design\n",
    "\n",
    "This refers to the design of the system on multiple levels. First a small design shall be done in SolidWorks, in order to familiarize me with those type of tools. Now another design shall be done from an arhitectural point of view when choosing our control laws, and last but not least an overall coding strategy shall be chosen for the project.\n",
    "\n",
    "### Step 2 Mechanical inmplementation\n",
    "\n",
    "At this step we need to procur all the mechanical and electrical elements of our system and ensure we have a way to combine them.\n",
    "\n",
    "### Step 3 modelling\n",
    "\n",
    "A mathematical model of the system would be desired but model trough experimentation is not of the table. The mian goal si to have a model of our system to work with when designin contorl law's.\n",
    "\n",
    "### Step 4 Control\n",
    "\n",
    "Here we have to choose and develop a control strategy and to simulate in on multiple devices.\n",
    "\n",
    "### Step 5 Testing\n",
    "\n",
    "The project shall go trough multiple types of test."
   ]
  }
 ],
 "metadata": {
  "language_info": {
   "name": "python"
  },
  "orig_nbformat": 4
 },
 "nbformat": 4,
 "nbformat_minor": 2
}
